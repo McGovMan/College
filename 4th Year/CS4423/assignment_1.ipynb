{
 "cells": [
  {
   "cell_type": "markdown",
   "metadata": {},
   "source": [
    "### CS4423 - Networks\n",
    "Angela Carnevale <br />\n",
    "School of Mathematical and Statistical Sciences<br />\n",
    "NUI Galway"
   ]
  },
  {
   "cell_type": "markdown",
   "metadata": {},
   "source": [
    "# Assignment 1"
   ]
  },
  {
   "cell_type": "markdown",
   "metadata": {},
   "source": [
    "Provide answers to the problems in the boxes provided. \n",
    "\n",
    "The buttons at the top of the page can be used to **create\n",
    "more boxes if needed**.\n",
    "The type of box can be changed from `Code` to `Markdown`.\n",
    "* `Code` boxes take (and execute) `python` code.\n",
    "* `Markdown` boxes take (and format nicely) **text input**.\n",
    "In this way, you can provide answers, ask questions, \n",
    "or raise issues, in words.\n",
    "\n",
    "When finished, print this notebook into a **pdf** file and submit this to\n",
    "**blackboard**.\n",
    "\n",
    "**Deadline** is Wednesday 16 February at 9am."
   ]
  },
  {
   "cell_type": "markdown",
   "metadata": {},
   "source": [
    "## Setup"
   ]
  },
  {
   "cell_type": "markdown",
   "metadata": {},
   "source": [
    "This is a `jupyter` notebook.   You can open it and interact with it\n",
    "on [![Open in Binder](https://mybinder.org/badge_logo.svg)](https://mybinder.org/v2/gh/angelacarnevale/2122-CS4423-Networks/HEAD)\n",
    "\n",
    "Or, you can\n",
    "install and use `jupyter` as a `python` package on your own laptop or PC.  "
   ]
  },
  {
   "cell_type": "markdown",
   "metadata": {},
   "source": [
    "The following command loads the `networkx` package into the current session.  \n",
    "The next command specifies some standard options that can be useful for drawing graphs.  \n",
    "\n",
    "* In order to execute the code in a box,\n",
    "use the mouse or arrow keys to highlight the box and then press SHIFT-RETURN.\n",
    "\n",
    "* To write text in a Markdown cell, simply double-click on it. When you are done, press SHIFT-RETURN."
   ]
  },
  {
   "cell_type": "code",
   "execution_count": null,
   "metadata": {},
   "outputs": [],
   "source": [
    "import networkx as nx\n",
    "opts = { \"with_labels\": True, \"node_color\": 'y' }"
   ]
  },
  {
   "cell_type": "markdown",
   "metadata": {},
   "source": [
    "Should it ever happen that the notebook becomes unusable, start again with a fresh copy."
   ]
  },
  {
   "cell_type": "markdown",
   "metadata": {},
   "source": [
    "##  1. Warmup.\n",
    "\n",
    "The purpose of this task is to get you used to working with the `networkx` package\n",
    "in the `jupyter` notebook environment.\n",
    "\n",
    "1. Define a new (simple) graph `G` on the vertex set $X = \\{0, 1, 2, 3, 4, 5, 6, 7, 8, 9\\}$\n",
    "with edges $0-1$, $1-2$, $2-3$, $3-4$, $4-5$, $5-6$, $6-7$, $7-8$, $8-9$, and $9-0$.\n",
    "Draw the graph.  Hence or otherwise determine its **order** (the number of nodes)\n",
    "and its **size** (the number of links)."
   ]
  },
  {
   "cell_type": "code",
   "execution_count": null,
   "metadata": {},
   "outputs": [],
   "source": [
    "## your code here"
   ]
  },
  {
   "cell_type": "code",
   "execution_count": null,
   "metadata": {},
   "outputs": [],
   "source": [
    "## your code here"
   ]
  },
  {
   "cell_type": "code",
   "execution_count": null,
   "metadata": {},
   "outputs": [],
   "source": [
    "## your code here"
   ]
  },
  {
   "cell_type": "markdown",
   "metadata": {},
   "source": [
    "... you can write your comments in this box ..."
   ]
  },
  {
   "cell_type": "markdown",
   "metadata": {},
   "source": [
    "2. Find the **adjacency matrix** $A$ of the graph `G`.  Then compute its square, $A^2$,\n",
    "and draw the graph `G2` that has $A^2$ as its adjacency matrix.  What are the connected components of `G2`? "
   ]
  },
  {
   "cell_type": "code",
   "execution_count": null,
   "metadata": {},
   "outputs": [],
   "source": [
    "## your code here"
   ]
  },
  {
   "cell_type": "code",
   "execution_count": null,
   "metadata": {},
   "outputs": [],
   "source": [
    "## your code here"
   ]
  },
  {
   "cell_type": "code",
   "execution_count": null,
   "metadata": {},
   "outputs": [],
   "source": [
    "## your code here"
   ]
  },
  {
   "cell_type": "markdown",
   "metadata": {},
   "source": [
    "... you can write your comments in this box ..."
   ]
  },
  {
   "cell_type": "markdown",
   "metadata": {},
   "source": [
    "##  2.  Projections"
   ]
  },
  {
   "cell_type": "markdown",
   "metadata": {},
   "source": [
    "Suppose that $G$ is a bipartite graph on a vertex set that is the disjoint union of two sets $X$ and $Y$, where each edge\n",
    "connects a vertex in $X$ to a vertex in $Y$.  The **projection** of $G$ onto the set $X$\n",
    "is the graph with vertex set $X$, where any two elements are joined by an edge whenever\n",
    "they are joined to a common element $y \\in Y$ in the graph $G$.  \n",
    "The adjacency matrix of the projection can be derived from the square $A^2$ of the adjacency matrix\n",
    "$A$ of $G$."
   ]
  },
  {
   "cell_type": "markdown",
   "metadata": {},
   "source": [
    "Consider the affilliation network below $G$, with $11$ people labelled $A$ to $K$,\n",
    "and four foci (\"focal points\" of interaction) labelled $1$, $2$, $3$ and $4$, \n",
    "\n",
    "![bipartite graph](images/bipartite.png)\n",
    "\n",
    "1.  Compute the adjacency matrix of $G$.\n",
    "\n",
    "2. Draw the projection on (just)\n",
    "   the people, in which two people are joined by an edge if they have a common\n",
    "   focus.\n",
    "   (Of course, one can do this easily by hand.  It would be nice to get\n",
    "   `networkx` to do it for you.)\n",
    "\n",
    "3. Compute the adjacency matrix $B$ of the projection\n",
    "   and compare it to $A^2$ (note that the two matrices have different sizes).  What do you observe?"
   ]
  },
  {
   "cell_type": "code",
   "execution_count": null,
   "metadata": {},
   "outputs": [],
   "source": [
    "## your code here"
   ]
  },
  {
   "cell_type": "code",
   "execution_count": null,
   "metadata": {},
   "outputs": [],
   "source": [
    "## your code here"
   ]
  },
  {
   "cell_type": "code",
   "execution_count": null,
   "metadata": {},
   "outputs": [],
   "source": [
    "## your code here"
   ]
  },
  {
   "cell_type": "markdown",
   "metadata": {},
   "source": [
    "... you can write your comments in this box ..."
   ]
  },
  {
   "cell_type": "markdown",
   "metadata": {},
   "source": [
    "## 3. Random Trees"
   ]
  },
  {
   "cell_type": "markdown",
   "metadata": {},
   "source": [
    "The `nx.random_tree(n)` command can be used to generate a random tree on the `n` vertices\n",
    "represented in `python` by `range(n)` (in order).\n",
    "\n",
    "Such a tree can be converted into a sequence of $n - 2$ numbers, its **Prüfer code** by the\n",
    "`python` function `pruefer_code`, defined as follows:"
   ]
  },
  {
   "cell_type": "code",
   "execution_count": null,
   "metadata": {},
   "outputs": [],
   "source": [
    "def pruefer_node(tree):\n",
    "    for x in tree:\n",
    "        if tree.degree(x) == 1:\n",
    "            for y in tree[x]:\n",
    "                tree.remove_node(x)\n",
    "                return y\n",
    "\n",
    "def pruefer_code(T):\n",
    "    tree = T.copy()\n",
    "    return [pruefer_node(tree) for k in range(tree.order() - 2)]"
   ]
  },
  {
   "cell_type": "code",
   "execution_count": null,
   "metadata": {},
   "outputs": [],
   "source": [
    "T = nx.random_tree(12)"
   ]
  },
  {
   "cell_type": "code",
   "execution_count": null,
   "metadata": {},
   "outputs": [],
   "source": [
    "code = pruefer_code(T)\n",
    "code"
   ]
  },
  {
   "cell_type": "markdown",
   "metadata": {},
   "source": [
    "Conversely, the following function `tree_pruefer` constructs a tree from a\n",
    "Prüfer code."
   ]
  },
  {
   "cell_type": "code",
   "execution_count": null,
   "metadata": {},
   "outputs": [],
   "source": [
    "def tree_pruefer(code):\n",
    "\n",
    "    # initialize graph and defects\n",
    "    n = len(code) + 2\n",
    "    tree = nx.empty_graph(n)\n",
    "    degrees = [1 for x in tree]\n",
    "    for y in code:\n",
    "        degrees[y] += 1\n",
    "        \n",
    "    # add edges\n",
    "    for y in code:\n",
    "        for x in tree:\n",
    "            if degrees[x] == 1:\n",
    "                tree.add_edge(x, y)\n",
    "                for z in (x, y):\n",
    "                    degrees[z] -= 1\n",
    "                break\n",
    "                \n",
    "    # final edge\n",
    "    e = [x for x in tree if degrees[x] == 1]\n",
    "    tree.add_edge(*e)\n",
    "    \n",
    "    return tree"
   ]
  },
  {
   "cell_type": "code",
   "execution_count": null,
   "metadata": {},
   "outputs": [],
   "source": [
    "T2 = tree_pruefer(code)"
   ]
  },
  {
   "cell_type": "markdown",
   "metadata": {},
   "source": [
    "1. Construct random trees on $n = 10, 11, 12$ nodes (one each is enough).  For each such tree,\n",
    "   draw it, compute its Prüfer code and then convert the code back into a tree.\n",
    "   Do you get your old tree back?\n",
    "\n"
   ]
  },
  {
   "cell_type": "code",
   "execution_count": null,
   "metadata": {},
   "outputs": [],
   "source": [
    "## your code here"
   ]
  },
  {
   "cell_type": "code",
   "execution_count": null,
   "metadata": {},
   "outputs": [],
   "source": [
    "## your code here"
   ]
  },
  {
   "cell_type": "code",
   "execution_count": null,
   "metadata": {},
   "outputs": [],
   "source": [
    "## your code here"
   ]
  },
  {
   "cell_type": "markdown",
   "metadata": {},
   "source": [
    "... your comments here ..."
   ]
  },
  {
   "cell_type": "markdown",
   "metadata": {},
   "source": [
    "2. For a few randomly chosen Prüfer codes, construct the corresponding tree, \n",
    "   draw it if you want, and convert it back into a Prüfer code.\n",
    "   Do you get your old code back?"
   ]
  },
  {
   "cell_type": "code",
   "execution_count": null,
   "metadata": {},
   "outputs": [],
   "source": [
    "## your code here"
   ]
  },
  {
   "cell_type": "code",
   "execution_count": null,
   "metadata": {},
   "outputs": [],
   "source": [
    "## your code here"
   ]
  },
  {
   "cell_type": "code",
   "execution_count": null,
   "metadata": {},
   "outputs": [],
   "source": [
    "## your code here"
   ]
  },
  {
   "cell_type": "markdown",
   "metadata": {},
   "source": [
    "... your comments here ..."
   ]
  },
  {
   "cell_type": "markdown",
   "metadata": {},
   "source": [
    "3. Which tree on $n$ nodes corresponds to the Prüfer code \n",
    "   consisting of $n-2$ entries equal to $0$?"
   ]
  },
  {
   "cell_type": "markdown",
   "metadata": {},
   "source": [
    "... your comments here..."
   ]
  }
 ],
 "metadata": {
  "kernelspec": {
   "display_name": "Python 3 (ipykernel)",
   "language": "python",
   "name": "python3"
  },
  "language_info": {
   "codemirror_mode": {
    "name": "ipython",
    "version": 3
   },
   "file_extension": ".py",
   "mimetype": "text/x-python",
   "name": "python",
   "nbconvert_exporter": "python",
   "pygments_lexer": "ipython3",
   "version": "3.9.7"
  }
 },
 "nbformat": 4,
 "nbformat_minor": 2
}
